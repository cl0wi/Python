{
 "cells": [
  {
   "cell_type": "code",
   "execution_count": 23,
   "metadata": {},
   "outputs": [
    {
     "name": "stdout",
     "output_type": "stream",
     "text": [
      "Guardado con éxito\n"
     ]
    }
   ],
   "source": [
    "import pandas as pd\n",
    "import openpyxl\n",
    "agosto2014=pd.read_excel(r\"C:\\temp\\VentasGroucery_Meses.xlsx\",sheet_name=\"Ventas Agosto 2014\")\n",
    "agosto2014\n",
    "septiembre2014=pd.read_excel(r\"C:\\temp\\VentasGroucery_Meses.xlsx\",sheet_name=\"Ventas Septiembre 2014\")\n",
    "septiembre2014\n",
    "octubre2014=pd.read_excel(r\"C:\\temp\\VentasGroucery_Meses.xlsx\",sheet_name=\"Ventas Octubre 2014\")\n",
    "octubre2014\n",
    "\n",
    "trimestre2014=pd.concat([agosto2014,septiembre2014,octubre2014])\n",
    "trimestre2014\n",
    "\n",
    "import openpyxl.workbook\n",
    "import pandas as pd\n",
    "import pandas as pk\n",
    "\n",
    "import openpyxl\n",
    "from openpyxl import Workbook\n",
    "\n",
    "libro = Workbook()\n",
    "hoja_activa = libro.active\n",
    "hoja_activa.title = \"Bebidas\"\n",
    "libro.save(r\"C:\\Temp\\Bebidas.xlsx\")\n",
    "print(\"Guardado con éxito\")\n",
    "\n",
    "\n",
    "\n"
   ]
  },
  {
   "cell_type": "code",
   "execution_count": null,
   "metadata": {},
   "outputs": [],
   "source": [
    "#aprovechando el DataFrame cinco meses, crear desde el mismo codigo un libro de excel, donde tendremos los datos del dataframe \n",
    "#clasificados por categorias en diferentes hojas, tendre la hoja beverages, con sus datos\n",
    "#tendre la hojaseafoo... lo guardarmeos con el nombre, practica final.xslx\n",
    "#numero de categorias unique()\n",
    "#las hojas no pueden contener caracteres especiales, para estos casos la funcion str.replace\n"
   ]
  },
  {
   "cell_type": "code",
   "execution_count": null,
   "metadata": {},
   "outputs": [
    {
     "name": "stdout",
     "output_type": "stream",
     "text": [
      "Guardado con éxito\n"
     ]
    }
   ],
   "source": [
    "import openpyxl.workbook\n",
    "import pandas as pd\n",
    "import pandas as pk\n",
    "\n",
    "import openpyxl\n",
    "from openpyxl import Workbook\n",
    "\n",
    "libro = Workbook()\n",
    "categorias=trimestre2014[\"Category\"].unique()\n",
    "len(categorias)\n",
    "\n",
    "\n",
    "for i in range (0,len(categorias)):\n",
    "    categorias[i]=categorias[i].replace(\"/\",\" \")\n",
    "    categorias[i]=libro.create_sheet(title=categorias[i])\n",
    "    for i in range(0,len(trimestre2014)):\n",
    "        for j in range (0,9)\n",
    "        hoja.activa.cell(row=fila,column=j+1)\n",
    "    \n",
    "libro.save(r\"C:\\Temp\\Practica final.xlsx\")\n",
    "\n",
    "print(\"Guardado con éxito\")        \n",
    "\n"
   ]
  },
  {
   "cell_type": "code",
   "execution_count": null,
   "metadata": {},
   "outputs": [
    {
     "data": {
      "text/plain": [
       "array(['Grains/Cereals', 'Dairy Products', 'Produce', 'Condiments',\n",
       "       'Seafood', 'Confections', 'Beverages', 'Meat/Poultry'],\n",
       "      dtype=object)"
      ]
     },
     "execution_count": 30,
     "metadata": {},
     "output_type": "execute_result"
    }
   ],
   "source": [
    "trimestre2014.Category.unique()"
   ]
  },
  {
   "cell_type": "code",
   "execution_count": null,
   "metadata": {},
   "outputs": [
    {
     "name": "stderr",
     "output_type": "stream",
     "text": [
      "<>:1: SyntaxWarning: 'list' object is not callable; perhaps you missed a comma?\n",
      "<>:1: SyntaxWarning: 'list' object is not callable; perhaps you missed a comma?\n",
      "C:\\Users\\formacio\\AppData\\Local\\Temp\\ipykernel_5740\\1699655494.py:1: SyntaxWarning: 'list' object is not callable; perhaps you missed a comma?\n",
      "  count([trimestre2014.Category.unique]())\n"
     ]
    },
    {
     "ename": "NameError",
     "evalue": "name 'count' is not defined",
     "output_type": "error",
     "traceback": [
      "\u001b[1;31m---------------------------------------------------------------------------\u001b[0m",
      "\u001b[1;31mNameError\u001b[0m                                 Traceback (most recent call last)",
      "Cell \u001b[1;32mIn[48], line 1\u001b[0m\n\u001b[1;32m----> 1\u001b[0m \u001b[43mcount\u001b[49m([trimestre2014\u001b[38;5;241m.\u001b[39mCategory\u001b[38;5;241m.\u001b[39munique]())\n",
      "\u001b[1;31mNameError\u001b[0m: name 'count' is not defined"
     ]
    }
   ],
   "source": []
  }
 ],
 "metadata": {
  "kernelspec": {
   "display_name": "Python 3",
   "language": "python",
   "name": "python3"
  },
  "language_info": {
   "codemirror_mode": {
    "name": "ipython",
    "version": 3
   },
   "file_extension": ".py",
   "mimetype": "text/x-python",
   "name": "python",
   "nbconvert_exporter": "python",
   "pygments_lexer": "ipython3",
   "version": "3.13.0"
  }
 },
 "nbformat": 4,
 "nbformat_minor": 2
}
