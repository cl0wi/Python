{
 "cells": [
  {
   "cell_type": "code",
   "execution_count": null,
   "metadata": {},
   "outputs": [
    {
     "name": "stdout",
     "output_type": "stream",
     "text": [
      "20\n"
     ]
    }
   ],
   "source": [
    "#funcion personalizada\n",
    "def suma3(x):\n",
    "    print(x+3)\n",
    "    \n"
   ]
  },
  {
   "cell_type": "code",
   "execution_count": null,
   "metadata": {},
   "outputs": [
    {
     "name": "stdout",
     "output_type": "stream",
     "text": [
      "20\n"
     ]
    },
    {
     "data": {
      "text/plain": [
       "60"
      ]
     },
     "execution_count": 10,
     "metadata": {},
     "output_type": "execute_result"
    }
   ],
   "source": [
    "suma3(17)\n",
    "def suma5(x):\n",
    "    return x+5\n",
    "40+suma5(15)\n",
    "#15+5 es igual a 20 mas 40, si ponemos return si se puede poner un numero al principio osea 40 , con print no."
   ]
  },
  {
   "cell_type": "code",
   "execution_count": 12,
   "metadata": {},
   "outputs": [
    {
     "name": "stdout",
     "output_type": "stream",
     "text": [
      "20\n",
      "20\n"
     ]
    },
    {
     "ename": "TypeError",
     "evalue": "unsupported operand type(s) for +: 'int' and 'NoneType'",
     "output_type": "error",
     "traceback": [
      "\u001b[1;31m---------------------------------------------------------------------------\u001b[0m",
      "\u001b[1;31mTypeError\u001b[0m                                 Traceback (most recent call last)",
      "Cell \u001b[1;32mIn[12], line 4\u001b[0m\n\u001b[0;32m      2\u001b[0m \u001b[38;5;28;01mdef\u001b[39;00m \u001b[38;5;21msuma5\u001b[39m(x):\n\u001b[0;32m      3\u001b[0m     \u001b[38;5;28mprint\u001b[39m(x\u001b[38;5;241m+\u001b[39m\u001b[38;5;241m5\u001b[39m)\n\u001b[1;32m----> 4\u001b[0m \u001b[38;5;241;43m40\u001b[39;49m\u001b[38;5;241;43m+\u001b[39;49m\u001b[43msuma5\u001b[49m\u001b[43m(\u001b[49m\u001b[38;5;241;43m15\u001b[39;49m\u001b[43m)\u001b[49m\n",
      "\u001b[1;31mTypeError\u001b[0m: unsupported operand type(s) for +: 'int' and 'NoneType'"
     ]
    }
   ],
   "source": [
    "suma3(17)\n",
    "def suma5(x):\n",
    "    print(x+5)\n",
    "40+suma5(15)"
   ]
  },
  {
   "cell_type": "code",
   "execution_count": 14,
   "metadata": {},
   "outputs": [
    {
     "data": {
      "text/plain": [
       "20"
      ]
     },
     "execution_count": 14,
     "metadata": {},
     "output_type": "execute_result"
    }
   ],
   "source": [
    "def sumaab(a,b):\n",
    "    return a+b\n",
    "sumaab(8,12)"
   ]
  },
  {
   "cell_type": "code",
   "execution_count": null,
   "metadata": {},
   "outputs": [],
   "source": [
    "#Practica 1: Crear una funcion que sume 12 a un numero y lo divida entre 2 pero que devuelva un texto.\n",
    "#Practica 2: Crear una funcion que pasamdole un numero entre 1-12 me devuelva el nombre del mes correspondiente...ojo si no es entre 1-2\n",
    "#Practica 3: Crear una funcion que nos devuelva el area de un triangulo.\n"
   ]
  },
  {
   "cell_type": "code",
   "execution_count": 21,
   "metadata": {},
   "outputs": [
    {
     "name": "stdout",
     "output_type": "stream",
     "text": [
      "7.0\n"
     ]
    }
   ],
   "source": [
    "def suma12(x):\n",
    "    return (x+12)\n",
    "suma12(2)/2\n",
    "print((suma12(2)/2))\n",
    "input:(\"el valor de suma 12/2:\")"
   ]
  },
  {
   "cell_type": "code",
   "execution_count": 61,
   "metadata": {},
   "outputs": [
    {
     "ename": "_IncompleteInputError",
     "evalue": "incomplete input (1328155508.py, line 6)",
     "output_type": "error",
     "traceback": [
      "\u001b[1;36m  Cell \u001b[1;32mIn[61], line 6\u001b[1;36m\u001b[0m\n\u001b[1;33m    #convertir en indice la lista?\u001b[0m\n\u001b[1;37m                                  ^\u001b[0m\n\u001b[1;31m_IncompleteInputError\u001b[0m\u001b[1;31m:\u001b[0m incomplete input\n"
     ]
    }
   ],
   "source": [
    "meses=[\"enero\",\"febrero\",\"marzo\",\"abril\",\"mayo\",\"junio\",\"julio\",\"agosto\",\"septiembre\",\"octubre\",\"noviembre\",\"diciembre\"]\n",
    "iter=0\n",
    "for mes in meses:\n",
    "    print(meses[mes]\n",
    "\n",
    "#convertir en indice la lista?\n"
   ]
  },
  {
   "cell_type": "code",
   "execution_count": 72,
   "metadata": {},
   "outputs": [],
   "source": [
    "def devuelvemes(mes):\n",
    "    meses=[\"enero\",\"febrero\",\"marzo\",\"abril\",\"mayo\",\"junio\",\"julio\",\"agosto\",\"septiembre\",\"octubre\",\"noviembre\",\"diciembre\"]\n",
    "    mes=int(mes)\n",
    "    if mes>1 and mes>12:\n",
    "        print(meses[mes-1])\n",
    "        devuelvemes2(3)\n"
   ]
  },
  {
   "cell_type": "code",
   "execution_count": null,
   "metadata": {},
   "outputs": [],
   "source": []
  },
  {
   "cell_type": "code",
   "execution_count": 73,
   "metadata": {},
   "outputs": [
    {
     "data": {
      "text/plain": [
       "31.0"
      ]
     },
     "execution_count": 73,
     "metadata": {},
     "output_type": "execute_result"
    }
   ],
   "source": [
    "def areatriangulo(base,altura):\n",
    "    return(base+altura)/2\n",
    "areatriangulo(altura=50,base=12)"
   ]
  },
  {
   "cell_type": "code",
   "execution_count": null,
   "metadata": {},
   "outputs": [
    {
     "name": "stdout",
     "output_type": "stream",
     "text": [
      "5 es mayor que 3\n"
     ]
    }
   ],
   "source": [
    "#Practica 4: Crear una funcion que compare 2 numeros A y B, y que devuelva en un texto uno de los 3 posibles resultados, a es mayor que b, b es mayor que A y A y B son iguales.\n",
    "def compararxy(x,y):\n",
    "    if x>y:\n",
    "        print(x,\"es mayor que\",y)\n",
    "    elif y>x:\n",
    "        print(y,\"es mayor que\",x)\n",
    "    else: \n",
    "        print(x, \"y\", y,\"son iguales\")\n",
    "compararxy(5,3)\n",
    "\n",
    "\n",
    "#control d para seleccionar todos"
   ]
  },
  {
   "cell_type": "code",
   "execution_count": 94,
   "metadata": {},
   "outputs": [
    {
     "name": "stdout",
     "output_type": "stream",
     "text": [
      "1\n",
      "2\n",
      "3\n"
     ]
    }
   ],
   "source": [
    "#el bucle infinito while (significa mientras), \n",
    "i = 1\n",
    "while i<=3:\n",
    "    print(i)\n",
    "    i=1+i"
   ]
  },
  {
   "cell_type": "code",
   "execution_count": 95,
   "metadata": {},
   "outputs": [
    {
     "name": "stdout",
     "output_type": "stream",
     "text": [
      "3\n",
      "6\n",
      "9\n",
      "12\n",
      "15\n",
      "18\n",
      "21\n",
      "24\n",
      "27\n",
      "30\n",
      "33\n",
      "36\n",
      "39\n",
      "42\n",
      "45\n",
      "48\n"
     ]
    }
   ],
   "source": [
    "#Practica 5: mediante un bucle while imprimir el valor de la variable i que inicialmente valdra 3, y se incrementara de 3 en 3, siempre y cuando i sea menor de 50.as_integer_ratio\n",
    "\n",
    "i=3\n",
    "while i<=50:\n",
    "    print(i)\n",
    "    i=3+i"
   ]
  },
  {
   "cell_type": "code",
   "execution_count": null,
   "metadata": {},
   "outputs": [],
   "source": [
    "#como trabajar las fechas en python, tendremos que trabajar con una libreria que viene por defecto, y que se llama datetime y por lo tanto aprenderemos como importar una libreria o como llamar\n",
    "a una funcion de una libreria.  \n",
    "        from datetime import date   "
   ]
  },
  {
   "cell_type": "code",
   "execution_count": 101,
   "metadata": {},
   "outputs": [
    {
     "name": "stdout",
     "output_type": "stream",
     "text": [
      "2024-11-08\n",
      "el dia actual es 8\n",
      "el mes actual es 11\n",
      "el año actual es 2024\n"
     ]
    }
   ],
   "source": [
    "from datetime import date\n",
    "hoy =date.today()\n",
    "print(hoy)\n",
    "print(\"el dia actual es\",hoy.day)\n",
    "print(\"el mes actual es\",hoy.month)\n",
    "print(\"el año actual es\",hoy.year)"
   ]
  },
  {
   "cell_type": "code",
   "execution_count": 110,
   "metadata": {},
   "outputs": [
    {
     "name": "stdout",
     "output_type": "stream",
     "text": [
      "2024-11-08 18:16:26.203019\n",
      "la hora actual es 18\n",
      "los minutos actuales son 16\n",
      "los segundos actuales son 26\n",
      "2024-06-15\n"
     ]
    }
   ],
   "source": [
    "#Quiero traabajar con horas, de la misma lisma libreria datetime import datetime\n",
    "from datetime import datetime\n",
    "ahora=datetime.now()\n",
    "print(ahora)\n",
    "\n",
    "#obtener por separado las horas. minutos y segundos\n",
    "print(\"la hora actual es\",ahora.hour)\n",
    "print(\"los minutos actuales son\", ahora.minute)\n",
    "print(\"los segundos actuales son\",ahora.second)\n",
    "#como ajustar una fecha que no sea ni today(), ni now()\n",
    "fecha1=date(2024,6,15)\n",
    "print(fecha1)"
   ]
  },
  {
   "cell_type": "code",
   "execution_count": null,
   "metadata": {},
   "outputs": [],
   "source": []
  }
 ],
 "metadata": {
  "kernelspec": {
   "display_name": "Python 3",
   "language": "python",
   "name": "python3"
  },
  "language_info": {
   "codemirror_mode": {
    "name": "ipython",
    "version": 3
   },
   "file_extension": ".py",
   "mimetype": "text/x-python",
   "name": "python",
   "nbconvert_exporter": "python",
   "pygments_lexer": "ipython3",
   "version": "3.13.0"
  }
 },
 "nbformat": 4,
 "nbformat_minor": 2
}
