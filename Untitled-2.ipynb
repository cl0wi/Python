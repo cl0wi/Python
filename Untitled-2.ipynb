{
 "cells": [
  {
   "cell_type": "code",
   "execution_count": 2,
   "metadata": {},
   "outputs": [],
   "source": [
    "x=5"
   ]
  },
  {
   "cell_type": "code",
   "execution_count": 6,
   "metadata": {},
   "outputs": [
    {
     "name": "stdout",
     "output_type": "stream",
     "text": [
      "el dia de la semana es lunes\n"
     ]
    }
   ],
   "source": [
    "valor_texto = input(\"escribe el dia de la semana\")\n",
    "print(\"el dia de la semana es\",valor_texto)"
   ]
  },
  {
   "cell_type": "code",
   "execution_count": 10,
   "metadata": {},
   "outputs": [
    {
     "data": {
      "text/plain": [
       "12"
      ]
     },
     "execution_count": 10,
     "metadata": {},
     "output_type": "execute_result"
    }
   ],
   "source": [
    "nombre_lista= [12,\"clau\"]\n",
    "nombre_lista[0]"
   ]
  },
  {
   "cell_type": "code",
   "execution_count": null,
   "metadata": {},
   "outputs": [],
   "source": [
    "# append añadir un elemento a la lista\n",
    "insert: insertar un elemento en medio de la lista\n",
    "count cuenta cuantas veces estta un valor repr\n",
    "remove : eliminar el primer elemento encontrado\n",
    "del nombre lista [] asi se elimina un indice en concretooo\n",
    "lista para ver una lista que se genera con rangeee\n",
    "range genera numeros y le podemos ajustar tanto el valor inicial como el valor final y el set_matplotlib_close\n",
    "bucle for, un codigo que se repetia, hasta que se cumple una condicion dada. dinitos o infinitos y tiene asociada una variable, y esta contendra cada vez el valor de una coleccion (normalmente es una lista)\n",
    "#una variable necesarioa para poder controlar el numero de iteracion en el que estamos\n",
    "#iter\n",
    "#for i in lista: el bucle tiene identacion y andes de volver a repetir el codigo tengo que incrementar en 1\n",
    "# iter = iter + 2\n",
    "iter+=2"
   ]
  },
  {
   "cell_type": "code",
   "execution_count": null,
   "metadata": {},
   "outputs": [],
   "source": [
    "#la estructura de decision if, analiza una condicion o prueba logica y si se cumple ejecuta una parte verdadera alternativamente puedo ejecutra una parte falsa\n",
    "#consiste en comparar valores mediante un operador de comparacion\n",
    "# > mayor que\n",
    "# < menor que \n",
    "# == igual\n",
    "#!= distinto"
   ]
  },
  {
   "cell_type": "code",
   "execution_count": 16,
   "metadata": {},
   "outputs": [
    {
     "name": "stdout",
     "output_type": "stream",
     "text": [
      "No es Barcelona\n"
     ]
    }
   ],
   "source": [
    "ciudad=\"Brcelona\"\n",
    "if ciudad == \"Barcelona\":\n",
    "    #parte true\n",
    "    print(\"es Barcelona\")\n",
    "else:\n",
    "    print(\"No es Barcelona\")\n"
   ]
  },
  {
   "cell_type": "code",
   "execution_count": null,
   "metadata": {},
   "outputs": [],
   "source": [
    "#practica 1: mediante la lista de meses y mediante un bucle for, imprimir (output) todos los meses menos el mes de mayo.\n",
    "#practica 2: mediante la lista de numeros (15,33,48,63,25,18,74,88)\n",
    "#mediante un bucle for imprimir (output) solamente los numeros mayores de 40"
   ]
  },
  {
   "cell_type": "code",
   "execution_count": 19,
   "metadata": {},
   "outputs": [
    {
     "data": {
      "text/plain": [
       "['enero,febrero,marzo,abril,mayo,junio,julio,agosto,septiembre,octubre,noviembre,diciembre']"
      ]
     },
     "execution_count": 19,
     "metadata": {},
     "output_type": "execute_result"
    }
   ],
   "source": [
    "meses=[\"enero,febrero,marzo,abril,mayo,junio,julio,agosto,septiembre,octubre,noviembre,diciembre\"]\n",
    "meses"
   ]
  },
  {
   "cell_type": "code",
   "execution_count": 45,
   "metadata": {},
   "outputs": [
    {
     "name": "stdout",
     "output_type": "stream",
     "text": [
      "enero\n",
      "febrero\n",
      "marzo\n",
      "abril\n",
      "junio\n",
      "julio\n",
      "agosto\n",
      "septiembre\n",
      "octubre\n",
      "noviembre\n",
      "diciembre\n"
     ]
    }
   ],
   "source": [
    "meses=[\"enero\",\"febrero\",\"marzo\",\"abril\",\"mayo\",\"junio\",\"julio\",\"agosto\",\"septiembre\",\"octubre\",\"noviembre\",\"diciembre\"]\n",
    "for mes in meses:\n",
    "    if mes!=\"mayo\":\n",
    "        print(mes)\n"
   ]
  },
  {
   "cell_type": "code",
   "execution_count": 50,
   "metadata": {},
   "outputs": [
    {
     "name": "stdout",
     "output_type": "stream",
     "text": [
      "15\n",
      "33\n",
      "25\n",
      "18\n"
     ]
    }
   ],
   "source": [
    "numeros=[15,33,48,63,25,18,74,88]\n",
    "for numero in numeros:\n",
    "    if numero<40:\n",
    "        print(numero)\n"
   ]
  },
  {
   "cell_type": "code",
   "execution_count": 56,
   "metadata": {},
   "outputs": [],
   "source": [
    "# , con la lista meses y mediante un bucle for, imprimir todos los meses, cuyo numero de caracteres sea igual a 5\n",
    "meses=[\"enero\",\"febrero\",\"marzo\",\"abril\",\"mayo\",\"junio\",\"julio\",\"agosto\",\"septiembre\",\"octubre\",\"noviembre\",\"diciembre\"]\n",
    "for mes in meses:\n",
    "    if mes==len(meses)==5:\n",
    "        print(mes)\n",
    "\n"
   ]
  },
  {
   "cell_type": "code",
   "execution_count": 60,
   "metadata": {},
   "outputs": [
    {
     "name": "stdout",
     "output_type": "stream",
     "text": [
      "enero\n",
      "marzo\n",
      "abril\n",
      "junio\n",
      "julio\n"
     ]
    }
   ],
   "source": [
    "for mes in meses:\n",
    "    if len(mes)==5:\n",
    "        print(mes)"
   ]
  },
  {
   "cell_type": "code",
   "execution_count": 62,
   "metadata": {},
   "outputs": [
    {
     "ename": "SyntaxError",
     "evalue": "invalid syntax (4175314840.py, line 2)",
     "output_type": "error",
     "traceback": [
      "\u001b[1;36m  Cell \u001b[1;32mIn[62], line 2\u001b[1;36m\u001b[0m\n\u001b[1;33m    if prueba logica:\u001b[0m\n\u001b[1;37m              ^\u001b[0m\n\u001b[1;31mSyntaxError\u001b[0m\u001b[1;31m:\u001b[0m invalid syntax\n"
     ]
    }
   ],
   "source": [
    "#en una estructura if, tengo 2 opciones de devolucion\n",
    "if prueba logica:\n",
    "    #opcion 1\n",
    "#else opcion 2\n",
    "#necesito clasificar un numero por tramos, usaremos elif\n",
    "\n",
    "numero=30\n",
    "if numero<10:\n",
    "    print(\"numero entre 0-<10\")\n",
    "elif numero<30:\n",
    "    print(\"numero esta entre 10-<30\")\n",
    "else:\n",
    "    print(\"Numero mayor o igual de 30\")"
   ]
  },
  {
   "cell_type": "code",
   "execution_count": 65,
   "metadata": {},
   "outputs": [
    {
     "name": "stdout",
     "output_type": "stream",
     "text": [
      "numero entre 0-<10\n"
     ]
    }
   ],
   "source": [
    "numero=2\n",
    "if numero<10:\n",
    "    print(\"numero entre 0-<10\")\n",
    "elif numero<30:\n",
    "    print(\"numero esta entre 10-<30\")\n",
    "else:\n",
    "    print(\"Numero mayor o igual de 30\")"
   ]
  },
  {
   "cell_type": "code",
   "execution_count": null,
   "metadata": {},
   "outputs": [],
   "source": [
    "#practica 4: clasificar el vaor de la variable diamante con un valor inicial de 5, que iremos cambiando para comprobar, que muestre un texto que nos indisuq su clasificacion\n",
    "con multiplos de 25, hasta el 100 y ademas proteger que los numeros sean positivos, en caso de negativo o mayor que 100 que muestre un mensaje \"fuera de rango\"\n",
    "\n"
   ]
  },
  {
   "cell_type": "code",
   "execution_count": 77,
   "metadata": {},
   "outputs": [
    {
     "name": "stdout",
     "output_type": "stream",
     "text": [
      "el numero esta entre 0-<25\n"
     ]
    }
   ],
   "source": [
    "diamante= input(\"ponga el numero a clasificar\")\n",
    "diamante= int(diamante)\n",
    "if diamante<25:\n",
    "    print(\"el numero esta entre 0-<25\")\n",
    "elif diamante<100:\n",
    "    print(\"numero esta entre 25-<100\")\n",
    "else:\n",
    "    print(\"fuera de rango\")"
   ]
  },
  {
   "cell_type": "code",
   "execution_count": null,
   "metadata": {},
   "outputs": [],
   "source": [
    "#Operadores de logica el and y el or\n",
    "sirven para analizar varias condiciones y devolver verdadero o falso \n"
   ]
  },
  {
   "cell_type": "code",
   "execution_count": 80,
   "metadata": {},
   "outputs": [
    {
     "name": "stdout",
     "output_type": "stream",
     "text": [
      "correcto\n"
     ]
    }
   ],
   "source": [
    "if diamante<25 or diamante>100:\n",
    "    print(\"correcto\")"
   ]
  },
  {
   "cell_type": "code",
   "execution_count": null,
   "metadata": {},
   "outputs": [],
   "source": [
    "#ya hemos visto la estructura de decision if, vamo sa ver la alternativa, switch ... case, solo disponible en las versiones de python 3.10"
   ]
  },
  {
   "cell_type": "code",
   "execution_count": 83,
   "metadata": {},
   "outputs": [
    {
     "name": "stdout",
     "output_type": "stream",
     "text": [
      "octubre\n"
     ]
    }
   ],
   "source": [
    "x=10\n",
    "match x:\n",
    "    case 1:\n",
    "        print(\"seria el 1\")\n",
    "    case 5:\n",
    "        print(\"seria el 5\")\n",
    "    case 10:\n",
    "        print(\"octubre\")\n",
    "    case default:\n",
    "        print(\"no correcto\")\n"
   ]
  },
  {
   "cell_type": "code",
   "execution_count": 84,
   "metadata": {},
   "outputs": [
    {
     "name": "stdout",
     "output_type": "stream",
     "text": [
      "D\n",
      "o\n",
      "m\n",
      "i\n"
     ]
    }
   ],
   "source": [
    "#Como salir de un bucle, con la instruccion break\n",
    "palabra = \"Domingo\"\n",
    "for letra in palabra:\n",
    "    if letra==\"n\":\n",
    "        break\n",
    "    else:\n",
    "        print(letra)"
   ]
  },
  {
   "cell_type": "code",
   "execution_count": null,
   "metadata": {},
   "outputs": [],
   "source": []
  },
  {
   "cell_type": "code",
   "execution_count": null,
   "metadata": {},
   "outputs": [],
   "source": []
  },
  {
   "cell_type": "code",
   "execution_count": 85,
   "metadata": {},
   "outputs": [
    {
     "name": "stdout",
     "output_type": "stream",
     "text": [
      "D\n",
      "o\n",
      "m\n",
      "i\n",
      "g\n",
      "o\n"
     ]
    }
   ],
   "source": [
    "for letra in palabra:\n",
    "    if letra==\"n\":\n",
    "        continue\n",
    "    else:\n",
    "        print(letra)"
   ]
  },
  {
   "cell_type": "code",
   "execution_count": 86,
   "metadata": {},
   "outputs": [
    {
     "data": {
      "text/plain": [
       "'DOMINGO'"
      ]
     },
     "execution_count": 86,
     "metadata": {},
     "output_type": "execute_result"
    }
   ],
   "source": [
    "#funciones de texto interesantes\n",
    "palabra= \"domingo\"\n",
    "palabra.upper()"
   ]
  },
  {
   "cell_type": "code",
   "execution_count": 87,
   "metadata": {},
   "outputs": [
    {
     "name": "stdout",
     "output_type": "stream",
     "text": [
      "domingo\n"
     ]
    }
   ],
   "source": [
    "#convertir a minusculas lower \n",
    "print(palabra.lower())"
   ]
  },
  {
   "cell_type": "code",
   "execution_count": 89,
   "metadata": {},
   "outputs": [
    {
     "data": {
      "text/plain": [
       "'d@ming@'"
      ]
     },
     "execution_count": 89,
     "metadata": {},
     "output_type": "execute_result"
    }
   ],
   "source": [
    "#Reemplazar valores\n",
    "palabra.replace(\"o\",\"@\")"
   ]
  },
  {
   "cell_type": "code",
   "execution_count": 95,
   "metadata": {},
   "outputs": [
    {
     "name": "stdout",
     "output_type": "stream",
     "text": [
      "['Esto', 'seria', 'una', 'frase']\n"
     ]
    },
    {
     "data": {
      "text/plain": [
       "'seria'"
      ]
     },
     "execution_count": 95,
     "metadata": {},
     "output_type": "execute_result"
    }
   ],
   "source": [
    "palabra = \"Esto seria una frase\"\n",
    "lista= palabra.split()\n",
    "print(lista)\n",
    "lista[1]"
   ]
  },
  {
   "cell_type": "code",
   "execution_count": null,
   "metadata": {},
   "outputs": [],
   "source": [
    "#Practica 5: Imprimir las letras por separados de la palabra \n",
    "supercalifragilisticoespialidoso, imprimir en mayusculas, menos la letra a\n",
    "#Practica 6: Con la lista de numeros [18,25,33,17,36,44,67] #imprimir los numeros de manera individual, mientras la suma de los valores imprimidos sea menor de 120.\n",
    "#practica 7: imprimir la lista de las siguientes ciudades Barcelona, Murcia, Toledo, Bilbao, Salamanca, Teruel, Burgos, Madrid, Tarragona en minuscula, siempre y cuando el numero de caracteres de su nombre sea dif de 6\n"
   ]
  },
  {
   "cell_type": "code",
   "execution_count": null,
   "metadata": {},
   "outputs": [],
   "source": [
    "practica 7: imprimir la lista de las siguientes ciudades Barcelona, Murcia, Toledo, Bilbao, Salamanca, Teruel, Burgos, Madrid, Tarragona en minuscula, siempre y cuando el numero de caracteres de su nombre sea dif de 6"
   ]
  },
  {
   "cell_type": "code",
   "execution_count": 121,
   "metadata": {},
   "outputs": [
    {
     "name": "stdout",
     "output_type": "stream",
     "text": [
      "barcelona\n",
      "salamanca\n",
      "tarragona\n"
     ]
    }
   ],
   "source": [
    "ciudades = [\"Barcelona\", \"Murcia\", \"Toledo\", \"Bilbao\", \"Salamanca\", \"Teruel\", \"Burgos\", \"Madrid\", \"Tarragona\"]\n",
    "for ciudad in ciudades:\n",
    "    if len(ciudad)!=6:\n",
    "        print(ciudad.lower())"
   ]
  },
  {
   "cell_type": "code",
   "execution_count": 113,
   "metadata": {},
   "outputs": [
    {
     "name": "stdout",
     "output_type": "stream",
     "text": [
      "S\n",
      "U\n",
      "P\n",
      "E\n",
      "R\n",
      "C\n",
      "L\n",
      "I\n",
      "F\n",
      "R\n",
      "G\n",
      "I\n",
      "L\n",
      "I\n",
      "S\n",
      "T\n",
      "I\n",
      "C\n",
      "O\n",
      "E\n",
      "S\n",
      "P\n",
      "I\n",
      "L\n",
      "I\n",
      "D\n",
      "O\n",
      "S\n",
      "O\n"
     ]
    }
   ],
   "source": [
    "palabra = \"supercalifragilisticoespialidoso\"\n",
    "for letra in palabra:\n",
    "    if letra==\"a\":\n",
    "        continue\n",
    "    else:\n",
    "        print(letra.upper())"
   ]
  },
  {
   "cell_type": "code",
   "execution_count": 120,
   "metadata": {},
   "outputs": [
    {
     "name": "stdout",
     "output_type": "stream",
     "text": [
      "18\n",
      "25\n",
      "33\n",
      "17\n"
     ]
    }
   ],
   "source": [
    "numeros=[18,25,33,17,36,44,67]\n",
    "acumulado = 0\n",
    "for numero in numeros:\n",
    "    acumulado+=numero\n",
    "    if acumulado>120:\n",
    "        break\n",
    "    print(numero)\n"
   ]
  },
  {
   "cell_type": "code",
   "execution_count": null,
   "metadata": {},
   "outputs": [],
   "source": [
    "#practica 8: partiendo de la variable frase que contendra el valor\n",
    "#\"el viernes os quiero ver aqui a todos, se donde vivir\" imprimir las palabras por individual con el num de orden correct, usando la funcion classFilter(admin.SimpleListFilter):\n",
    "\n",
    "    title = ''\n",
    "    parameter_name = ''\n",
    "\n",
    "    def lookups(self, request, model_admin):\n",
    "        pass\n",
    "\n",
    "    def queryset(self, request, queryset):\n",
    "        return queryset"
   ]
  },
  {
   "cell_type": "code",
   "execution_count": null,
   "metadata": {},
   "outputs": [
    {
     "name": "stdout",
     "output_type": "stream",
     "text": [
      "el\n",
      "viernes\n",
      "os\n",
      "quiero\n",
      "ver\n",
      "aqui\n",
      "a\n",
      "todos\n",
      "se\n",
      "donde\n",
      "vivis\n"
     ]
    }
   ],
   "source": [
    "frase= \"el viernes os quiero ver aqui a todos, se donde vivis\"\n",
    "frase=frase.replace(\",\",\"\")\n",
    "for palabra in frase.split():\n",
    "    print(palabra)\n"
   ]
  }
 ],
 "metadata": {
  "kernelspec": {
   "display_name": "Python 3",
   "language": "python",
   "name": "python3"
  },
  "language_info": {
   "codemirror_mode": {
    "name": "ipython",
    "version": 3
   },
   "file_extension": ".py",
   "mimetype": "text/x-python",
   "name": "python",
   "nbconvert_exporter": "python",
   "pygments_lexer": "ipython3",
   "version": "3.13.0"
  }
 },
 "nbformat": 4,
 "nbformat_minor": 2
}
